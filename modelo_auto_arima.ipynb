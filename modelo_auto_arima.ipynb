{
 "cells": [
  {
   "cell_type": "code",
   "execution_count": 1,
   "id": "d5678679",
   "metadata": {},
   "outputs": [],
   "source": [
    "import pandas as pd \n",
    "import numpy as np\n",
    "import matplotlib.pyplot as plt\n",
    "import plotly.express as px\n",
    "from pmdarima.arima import auto_arima\n",
    "from pmdarima.arima import ADFTest\n",
    "from Connections import Connections\n",
    "\n"
   ]
  },
  {
   "cell_type": "code",
   "execution_count": 2,
   "id": "6e7b3a45",
   "metadata": {},
   "outputs": [],
   "source": [
    "bd = Connections()"
   ]
  },
  {
   "cell_type": "code",
   "execution_count": 3,
   "id": "65440d60",
   "metadata": {},
   "outputs": [],
   "source": [
    "df = bd.get_orders_data()"
   ]
  },
  {
   "cell_type": "code",
   "execution_count": null,
   "id": "15e323a2",
   "metadata": {},
   "outputs": [],
   "source": [
    "df[\"order_created_at_hour\"] = pd.to_datetime(df[\"order_created_at_hour\"])\n",
    "df.set_index('order_created_at_hour', inplace=True)"
   ]
  },
  {
   "cell_type": "markdown",
   "id": "35590e73",
   "metadata": {},
   "source": [
    "Analisando os dados Temporários"
   ]
  },
  {
   "cell_type": "code",
   "execution_count": null,
   "id": "1b1864dc",
   "metadata": {},
   "outputs": [],
   "source": [
    "df.plot()"
   ]
  },
  {
   "cell_type": "markdown",
   "id": "9b7f6414",
   "metadata": {},
   "source": [
    "### Verificando Stationary\n",
    "\n",
    "Stationarity is an important concept in time-series and any time-series data should undergo a stationarity test before proceeding with a model.\n",
    "\n",
    "We use the ‘Augmented Dickey-Fuller Test’ to check whether the data is stationary or not which is available in the ‘pmdarima’ package."
   ]
  },
  {
   "cell_type": "code",
   "execution_count": null,
   "id": "dbc3c6e1",
   "metadata": {},
   "outputs": [],
   "source": [
    "adf_test = ADFTest(alpha=0.5)\n",
    "adf_test.should_diff(df)"
   ]
  },
  {
   "cell_type": "markdown",
   "id": "5d852bf0",
   "metadata": {},
   "source": [
    "From the above, we can conclude that the data is non-stationary. Hence, we would need to use the “Integrated (I)” concept, denoted by value ‘d’ in time series to make the data stationary while building the Auto ARIMA model"
   ]
  },
  {
   "cell_type": "markdown",
   "id": "92999e71",
   "metadata": {},
   "source": [
    "###  Train and Test split\n",
    "\n",
    "Split into train and test datasets to build the model on the training dataset and forecast using the test dataset."
   ]
  },
  {
   "cell_type": "code",
   "execution_count": null,
   "id": "0d08e5fe",
   "metadata": {},
   "outputs": [],
   "source": [
    "train, test= np.split(df, [int(.70 * len(df))])\n",
    "\n",
    "plt.plot(train)\n",
    "plt.plot(test)"
   ]
  },
  {
   "cell_type": "code",
   "execution_count": null,
   "id": "b8d4366f",
   "metadata": {},
   "outputs": [],
   "source": [
    "\n",
    "modelo_auto_arima = auto_arima(train, m = 12, seasonal = True, trace = False , error_action = 'ignore',\n",
    "                                suppres_warnings=True, stepwise = False)\n"
   ]
  },
  {
   "cell_type": "code",
   "execution_count": null,
   "id": "81f79c95",
   "metadata": {},
   "outputs": [],
   "source": [
    "modelo_auto_arima.summary()"
   ]
  },
  {
   "cell_type": "code",
   "execution_count": null,
   "id": "b6c3f0c2",
   "metadata": {},
   "outputs": [],
   "source": [
    "df_mod = modelo_auto_arima.predict(n_periods=429)\n",
    "prediction = pd.DataFrame(df_mod)\n",
    "prediction.columns = [\"predict_orders\"]\n",
    "prediction.index = test.index\n"
   ]
  },
  {
   "cell_type": "code",
   "execution_count": null,
   "id": "81fd6910",
   "metadata": {},
   "outputs": [],
   "source": [
    "plt.figure(figsize=(8,5))\n",
    "plt.plot(train, label=\"Training\")\n",
    "plt.plot(test, label=\"Test\")\n",
    "plt.plot(prediction, label=\"Prediction\")\n",
    "\n",
    "plt.show()"
   ]
  },
  {
   "cell_type": "markdown",
   "id": "f519de9f",
   "metadata": {},
   "source": [
    "### Verificando R2 "
   ]
  },
  {
   "cell_type": "code",
   "execution_count": null,
   "id": "47dc6ac2",
   "metadata": {},
   "outputs": [],
   "source": [
    "from sklearn.metrics import r2_score\n",
    "result = pd.concat([test, prediction[\"predict_orders\"]], axis=1)\n",
    "\n",
    "teste = result\n",
    "r2_score(teste[\"order_count\"], teste[\"predict_orders\"])"
   ]
  },
  {
   "cell_type": "markdown",
   "id": "eede287c",
   "metadata": {},
   "source": [
    "### Biblioteca Ploty "
   ]
  },
  {
   "cell_type": "code",
   "execution_count": null,
   "id": "d95cba43",
   "metadata": {},
   "outputs": [],
   "source": [
    "train.rename(columns={'order_count': 'order_count_train'}, inplace=True)\n",
    "\n",
    "concat_df = pd.concat([train,test, prediction[\"predict_orders\"]], axis=1)\n"
   ]
  },
  {
   "cell_type": "code",
   "execution_count": null,
   "id": "1630c4a3",
   "metadata": {},
   "outputs": [],
   "source": [
    "fig = px.line(concat_df, x=concat_df.index, y=[\"order_count_train\",\"predict_orders\",\"order_count\"], template = \"plotly_dark\")\n",
    "fig.show()"
   ]
  }
 ],
 "metadata": {
  "kernelspec": {
   "display_name": "Python 3 (ipykernel)",
   "language": "python",
   "name": "python3"
  },
  "language_info": {
   "codemirror_mode": {
    "name": "ipython",
    "version": 3
   },
   "file_extension": ".py",
   "mimetype": "text/x-python",
   "name": "python",
   "nbconvert_exporter": "python",
   "pygments_lexer": "ipython3",
   "version": "3.7.11"
  }
 },
 "nbformat": 4,
 "nbformat_minor": 5
}
